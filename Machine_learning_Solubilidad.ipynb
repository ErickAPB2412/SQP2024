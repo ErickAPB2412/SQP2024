{
  "nbformat": 4,
  "nbformat_minor": 0,
  "metadata": {
    "colab": {
      "provenance": [],
      "include_colab_link": true
    },
    "kernelspec": {
      "name": "python3",
      "display_name": "Python 3"
    },
    "language_info": {
      "name": "python"
    }
  },
  "cells": [
    {
      "cell_type": "markdown",
      "metadata": {
        "id": "view-in-github",
        "colab_type": "text"
      },
      "source": [
        "<a href=\"https://colab.research.google.com/github/inefable12/SQP2024/blob/main/Machine_learning_Solubilidad.ipynb\" target=\"_parent\"><img src=\"https://colab.research.google.com/assets/colab-badge.svg\" alt=\"Open In Colab\"/></a>"
      ]
    },
    {
      "cell_type": "markdown",
      "source": [
        "<img src=\"https://miro.medium.com/v2/resize:fit:1400/1*GwbGztZOJtP1fNs6584mkQ.gif\" width=\"300\" alt=\"molecula\"/>\n",
        "\n",
        "---\n",
        "$$\\Large \\textit{Sociedad Química del Perú | Curso: Inteligencia Artificial para la Escritura Científica}$$\n",
        "\n",
        "---\n",
        "<br>\n",
        "\n",
        "$$\\large\\textbf{Sesión 3: Machine Learning para la predicción de la solubilidad}$$\n",
        "\n",
        "\n",
        "$$\\textit{Parte Práctica}$$\n",
        "\n",
        "<br>\n",
        "<br>\n",
        "\n",
        "\n",
        "\n",
        "_Jesus Alvarado-Huayhuaz_"
      ],
      "metadata": {
        "id": "a6ImU2x_O3pR"
      }
    },
    {
      "cell_type": "markdown",
      "source": [
        "## 1. Instalación"
      ],
      "metadata": {
        "id": "RErGOt9pAIxs"
      }
    },
    {
      "cell_type": "code",
      "execution_count": null,
      "metadata": {
        "id": "wwwWI2rb_fad"
      },
      "outputs": [],
      "source": [
        "! wget https://repo.anaconda.com/miniconda/Miniconda3-py37_4.8.2-Linux-x86_64.sh\n",
        "! chmod +x Miniconda3-py37_4.8.2-Linux-x86_64.sh\n",
        "! bash ./Miniconda3-py37_4.8.2-Linux-x86_64.sh -b -f -p /usr/local\n",
        "! conda install -c rdkit rdkit -y\n",
        "import sys\n",
        "sys.path.append('/usr/local/lib/python3.7/site-packages/')"
      ]
    },
    {
      "cell_type": "code",
      "source": [
        "! wget https://raw.githubusercontent.com/dataprofessor/data/master/delaney.csv"
      ],
      "metadata": {
        "id": "Ooab06Bh_qFa"
      },
      "execution_count": null,
      "outputs": []
    },
    {
      "cell_type": "code",
      "source": [
        "import pandas as pd\n",
        "sol = pd.read_csv('delaney.csv')\n",
        "sol"
      ],
      "metadata": {
        "id": "p13G6FjS_yrK"
      },
      "execution_count": null,
      "outputs": []
    },
    {
      "cell_type": "code",
      "source": [
        "# Para seleccionar solo una columna, por ejm SMILES\n",
        "sol.SMILES"
      ],
      "metadata": {
        "id": "WwG80YdC_yoT"
      },
      "execution_count": null,
      "outputs": []
    },
    {
      "cell_type": "code",
      "source": [
        "# Para seleccionar solo una instancia de la columna:\n",
        "sol.SMILES[4]"
      ],
      "metadata": {
        "id": "AUTAEpwa_ylT"
      },
      "execution_count": null,
      "outputs": []
    },
    {
      "cell_type": "code",
      "source": [
        "# descriptor para 1 instancia\n",
        "from rdkit import Chem\n",
        "m = Chem.MolFromSmiles(sol.SMILES[4])\n",
        "m.GetNumAtoms()"
      ],
      "metadata": {
        "id": "ry-o4qFrAqBX"
      },
      "execution_count": null,
      "outputs": []
    },
    {
      "cell_type": "code",
      "source": [
        "# para usar todas\n",
        "from rdkit import Chem\n",
        "mol_list= []\n",
        "for element in sol.SMILES:\n",
        "  mol = Chem.MolFromSmiles(element)\n",
        "  mol_list.append(mol)"
      ],
      "metadata": {
        "id": "jTBu_S-EDwoZ"
      },
      "execution_count": null,
      "outputs": []
    },
    {
      "cell_type": "markdown",
      "source": [
        "# 2. Calcular descriptores moleculares\n",
        "Ahora representaremos cada una de las moléculas del conjunto de datos mediante un conjunto de descriptores moleculares que se utilizarán para la construcción de modelos."
      ],
      "metadata": {
        "id": "iu2Sr_3FBScD"
      }
    },
    {
      "cell_type": "markdown",
      "source": [
        "1. LogP (coeficiente de partición octanol-agua)\n",
        "2. MW (peso molecular)\n",
        "3. RB (Número de enlaces rotativos)\n",
        "4. AP (proporción aromática = número de átomos aromáticos / número de átomos pesados)\n",
        "\n",
        "Función personalizada denominada generate() para calcular los 3 descriptores LogP, MW y RB"
      ],
      "metadata": {
        "id": "QMAev83jBZEi"
      }
    },
    {
      "cell_type": "code",
      "metadata": {
        "id": "G7FsTREgepYV"
      },
      "source": [
        "import numpy as np\n",
        "from rdkit.Chem import Descriptors\n",
        "# Inspiración: https://codeocean.com/explore/capsules?query=tag:data-curation\n",
        "\n",
        "def generate(smiles, verbose=False):\n",
        "\n",
        "    moldata= []\n",
        "    for elem in smiles:\n",
        "        mol=Chem.MolFromSmiles(elem)\n",
        "        moldata.append(mol)\n",
        "\n",
        "    baseData= np.arange(1,1)\n",
        "    i=0\n",
        "    for mol in moldata:\n",
        "\n",
        "        desc_MolLogP = Descriptors.MolLogP(mol)\n",
        "        desc_MolWt = Descriptors.MolWt(mol)\n",
        "        desc_NumRotatableBonds = Descriptors.NumRotatableBonds(mol)\n",
        "\n",
        "        row = np.array([desc_MolLogP,\n",
        "                        desc_MolWt,\n",
        "                        desc_NumRotatableBonds])\n",
        "\n",
        "        if(i==0):\n",
        "            baseData=row\n",
        "        else:\n",
        "            baseData=np.vstack([baseData, row])\n",
        "        i=i+1\n",
        "\n",
        "    columnNames=[\"MolLogP\",\"MolWt\",\"NumRotatableBonds\"]\n",
        "    descriptors = pd.DataFrame(data=baseData,columns=columnNames)\n",
        "\n",
        "    return descriptors"
      ],
      "execution_count": null,
      "outputs": []
    },
    {
      "cell_type": "code",
      "source": [
        "df = generate(sol.SMILES)\n",
        "df"
      ],
      "metadata": {
        "id": "7RcQ0JiRBfem"
      },
      "execution_count": null,
      "outputs": []
    },
    {
      "cell_type": "code",
      "source": [
        "# Sobre el número de átomos aromáticos\n",
        "SMILES = 'COc1cccc2cc(C(=O)NCCCCN3CCN(c4cccc5nccnc54)CC3)oc21'\n",
        "m = Chem.MolFromSmiles(SMILES)\n",
        "aromatic_atoms = [m.GetAtomWithIdx(i).GetIsAromatic() for i in range(m.GetNumAtoms())]\n",
        "aromatic_atoms\n",
        "# False: no es un átomo aromático\n",
        "# True: sí es un átomo aromático"
      ],
      "metadata": {
        "id": "uErWlrFgBfZn"
      },
      "execution_count": null,
      "outputs": []
    },
    {
      "cell_type": "code",
      "source": [
        "def AromaticAtoms(m):\n",
        "  aromatic_atoms = [m.GetAtomWithIdx(i).GetIsAromatic() for i in range(m.GetNumAtoms())]\n",
        "  aa_count = []\n",
        "  for i in aromatic_atoms:\n",
        "    if i==True:\n",
        "      aa_count.append(1)\n",
        "  sum_aa_count = sum(aa_count)\n",
        "  return sum_aa_count"
      ],
      "metadata": {
        "id": "ykQDHZ9-BfXB"
      },
      "execution_count": null,
      "outputs": []
    },
    {
      "cell_type": "code",
      "source": [
        "# Aplicando al ejemplo con \"m\"\n",
        "AromaticAtoms(m)"
      ],
      "metadata": {
        "id": "y74wFV5dBfUg"
      },
      "execution_count": null,
      "outputs": []
    },
    {
      "cell_type": "code",
      "source": [
        "# Aplicándole a todos, mediante iteración\n",
        "desc_AromaticAtoms = [AromaticAtoms(element) for element in mol_list]\n",
        "desc_AromaticAtoms"
      ],
      "metadata": {
        "id": "JTFoaflZDSyF"
      },
      "execution_count": null,
      "outputs": []
    },
    {
      "cell_type": "code",
      "source": [
        "# Número de átomos pesados\n",
        "SMILES = 'COc1cccc2cc(C(=O)NCCCCN3CCN(c4cccc5nccnc54)CC3)oc21'\n",
        "m = Chem.MolFromSmiles(SMILES)\n",
        "Descriptors.HeavyAtomCount(m)"
      ],
      "metadata": {
        "id": "s4cmzdZoDTe8"
      },
      "execution_count": null,
      "outputs": []
    },
    {
      "cell_type": "code",
      "source": [
        "# Aplicándole a todos, mediante iteración\n",
        "desc_HeavyAtomCount = [Descriptors.HeavyAtomCount(element) for element in mol_list]\n",
        "desc_HeavyAtomCount"
      ],
      "metadata": {
        "id": "gU5dyff3DTZ8"
      },
      "execution_count": null,
      "outputs": []
    },
    {
      "cell_type": "code",
      "source": [
        "# Proporción aromática de \"m\"\n",
        "SMILES = 'COc1cccc2cc(C(=O)NCCCCN3CCN(c4cccc5nccnc54)CC3)oc21'\n",
        "m = Chem.MolFromSmiles(SMILES)\n",
        "AromaticAtoms(m)/Descriptors.HeavyAtomCount(m)"
      ],
      "metadata": {
        "id": "BW92nUIvDTXR"
      },
      "execution_count": null,
      "outputs": []
    },
    {
      "cell_type": "code",
      "source": [
        "# Aplicándole a todos, mediante iteración\n",
        "desc_AromaticProportion = [AromaticAtoms(element)/Descriptors.HeavyAtomCount(element) for element in mol_list]\n",
        "df_desc_AromaticProportion = pd.DataFrame(desc_AromaticProportion)\n",
        "df_desc_AromaticProportion"
      ],
      "metadata": {
        "id": "kvBwMOH9FEgj"
      },
      "execution_count": null,
      "outputs": []
    },
    {
      "cell_type": "markdown",
      "source": [
        "# 3. Preparación del conjunto de datos: Matriz X"
      ],
      "metadata": {
        "id": "ssPo8AB3FP-a"
      }
    },
    {
      "cell_type": "code",
      "source": [
        "X = pd.concat([df,df_desc_AromaticProportion], axis=1)\n",
        "X"
      ],
      "metadata": {
        "id": "T-k4D_NYFEdu"
      },
      "execution_count": null,
      "outputs": []
    },
    {
      "cell_type": "code",
      "source": [
        "# Renombrando las columnas\n",
        "X = X.rename(columns={'MolLogP':'MolLogP', 'MolWt':'MolWt', 'NumRotatableBonds':'NumRotatableBonds', 0:'AromaticProportion'})\n",
        "X.columns"
      ],
      "metadata": {
        "id": "wgr1JWXEFEbK"
      },
      "execution_count": null,
      "outputs": []
    },
    {
      "cell_type": "code",
      "source": [
        "X"
      ],
      "metadata": {
        "id": "hpjwirLNFEY5"
      },
      "execution_count": null,
      "outputs": []
    },
    {
      "cell_type": "markdown",
      "source": [
        "# 4. Preparación del conjunto de datos: Matriz Y"
      ],
      "metadata": {
        "id": "vwi29CiCGBnn"
      }
    },
    {
      "cell_type": "code",
      "source": [
        "sol.head()"
      ],
      "metadata": {
        "id": "aakHR5M4GBCY"
      },
      "execution_count": null,
      "outputs": []
    },
    {
      "cell_type": "code",
      "source": [
        "Y = sol.iloc[:,1]\n",
        "Y"
      ],
      "metadata": {
        "id": "0lkZ5sk-GIel"
      },
      "execution_count": null,
      "outputs": []
    },
    {
      "cell_type": "markdown",
      "source": [
        "Separando nuestros datos de entrenamiento y prueba"
      ],
      "metadata": {
        "id": "oEAU0R8WGPoh"
      }
    },
    {
      "cell_type": "code",
      "source": [
        "from sklearn.model_selection import train_test_split\n",
        "X_train, X_test, Y_train, Y_test = train_test_split(X, Y, test_size=0.2)"
      ],
      "metadata": {
        "id": "P-Q-SY6XGO-h"
      },
      "execution_count": null,
      "outputs": []
    },
    {
      "cell_type": "code",
      "source": [
        "X_train"
      ],
      "metadata": {
        "id": "98Qf0wEvGZ62"
      },
      "execution_count": null,
      "outputs": []
    },
    {
      "cell_type": "code",
      "source": [
        "Y_train"
      ],
      "metadata": {
        "id": "t7R0WGp6Ge17"
      },
      "execution_count": null,
      "outputs": []
    },
    {
      "cell_type": "code",
      "source": [
        "X_test"
      ],
      "metadata": {
        "id": "kgfZRL3oH6RE"
      },
      "execution_count": null,
      "outputs": []
    },
    {
      "cell_type": "code",
      "source": [
        "Y_test"
      ],
      "metadata": {
        "id": "H-5pqfRNH9wV"
      },
      "execution_count": null,
      "outputs": []
    },
    {
      "cell_type": "markdown",
      "source": [
        "# 5. Modelo de regresión lineal"
      ],
      "metadata": {
        "id": "_cLLv8p4GkrH"
      }
    },
    {
      "cell_type": "code",
      "source": [
        "# Entrenamiento para RL\n",
        "from sklearn import linear_model\n",
        "from sklearn.metrics import mean_squared_error, r2_score\n",
        "model = linear_model.LinearRegression()\n",
        "model.fit(X_train, Y_train)"
      ],
      "metadata": {
        "id": "Uc4vbU8EGkRP"
      },
      "execution_count": null,
      "outputs": []
    },
    {
      "cell_type": "markdown",
      "source": [
        "Predicción y métricas de logS de la data entrenada"
      ],
      "metadata": {
        "id": "s3Y3ICLoG0QI"
      }
    },
    {
      "cell_type": "code",
      "source": [
        "Y_pred_train = model.predict(X_train)\n",
        "print('Coefficients:', model.coef_)\n",
        "print('Intercept:', model.intercept_)\n",
        "print('Mean squared error (MSE): %.2f'\n",
        "      % mean_squared_error(Y_train, Y_pred_train))\n",
        "print('Coefficient of determination (R^2): %.2f'\n",
        "      % r2_score(Y_train, Y_pred_train))"
      ],
      "metadata": {
        "id": "ufHjiAygGttb"
      },
      "execution_count": null,
      "outputs": []
    },
    {
      "cell_type": "markdown",
      "source": [
        "Data de Test"
      ],
      "metadata": {
        "id": "DMfWZAxZHzR4"
      }
    },
    {
      "cell_type": "code",
      "source": [
        "Y_pred_test = model.predict(X_test)\n",
        "print('Coefficients:', model.coef_)\n",
        "print('Intercept:', model.intercept_)\n",
        "print('Mean squared error (MSE): %.2f'\n",
        "      % mean_squared_error(Y_test, Y_pred_test))\n",
        "print('Coefficient of determination (R^2): %.2f'\n",
        "      % r2_score(Y_test, Y_pred_test))"
      ],
      "metadata": {
        "id": "d9x-pIrvHyeT"
      },
      "execution_count": null,
      "outputs": []
    },
    {
      "cell_type": "markdown",
      "source": [
        "# ECUACIONES"
      ],
      "metadata": {
        "id": "Sf-WU_nGMLaf"
      }
    },
    {
      "cell_type": "code",
      "source": [
        "from sklearn import linear_model\n",
        "from sklearn.metrics import mean_squared_error, r2_score\n",
        "model = linear_model.LinearRegression()\n",
        "model.fit(X_train, Y_train)"
      ],
      "metadata": {
        "id": "podRmvuYGtqj"
      },
      "execution_count": null,
      "outputs": []
    },
    {
      "cell_type": "code",
      "source": [
        "yintercept = '%.2f' % model.intercept_\n",
        "LogP = '%.2f LogP' % model.coef_[0]\n",
        "MW = '%.4f MW' % model.coef_[1]\n",
        "RB = '%.4f RB' % model.coef_[2]\n",
        "AP = '%.2f AP' % model.coef_[3]\n",
        "print('LogS = ' +\n",
        "      ' ' +\n",
        "      yintercept +\n",
        "      ' + ' +\n",
        "      LogP +\n",
        "      ' +' +\n",
        "      MW +\n",
        "      ' + ' +\n",
        "      RB +\n",
        "      ' + ' +\n",
        "      AP)"
      ],
      "metadata": {
        "id": "GaI6VbT7Gtnj"
      },
      "execution_count": null,
      "outputs": []
    },
    {
      "cell_type": "markdown",
      "source": [
        "__Full data set__"
      ],
      "metadata": {
        "id": "MaKBCT7_M4Ko"
      }
    },
    {
      "cell_type": "code",
      "source": [
        "# Usando nuestro dataset: x e Y, le llamaremos full\n",
        "full = linear_model.LinearRegression()\n",
        "full.fit(X, Y)"
      ],
      "metadata": {
        "id": "g0z4wEJoGtk8"
      },
      "execution_count": null,
      "outputs": []
    },
    {
      "cell_type": "code",
      "source": [
        "full_pred = model.predict(X)\n",
        "print('Coefficients:', full.coef_)\n",
        "print('Intercept:', full.intercept_)\n",
        "print('Mean squared error (MSE): %.2f'\n",
        "      % mean_squared_error(Y, full_pred))\n",
        "print('Coefficient of determination (R^2): %.2f'\n",
        "      % r2_score(Y, full_pred))"
      ],
      "metadata": {
        "id": "GPeYsfUYMPYu"
      },
      "execution_count": null,
      "outputs": []
    },
    {
      "cell_type": "code",
      "source": [
        "full_yintercept = '%.2f' % full.intercept_\n",
        "full_LogP = '%.2f LogP' % full.coef_[0]\n",
        "full_MW = '%.4f MW' % full.coef_[1]\n",
        "full_RB = '+ %.4f RB' % full.coef_[2]\n",
        "full_AP = '%.2f AP' % full.coef_[3]\n",
        "print('LogS = ' +\n",
        "      ' ' +\n",
        "      full_yintercept +\n",
        "      ' ' +\n",
        "      full_LogP +\n",
        "      ' ' +\n",
        "      full_MW +\n",
        "      ' ' +\n",
        "      full_RB +\n",
        "      ' ' +\n",
        "      full_AP)"
      ],
      "metadata": {
        "id": "EPtk5UZHMPWY"
      },
      "execution_count": null,
      "outputs": []
    },
    {
      "cell_type": "markdown",
      "source": [
        "# __Predicción vs Experimental__"
      ],
      "metadata": {
        "id": "3kw6CM6aN5Je"
      }
    },
    {
      "cell_type": "code",
      "source": [
        "import matplotlib.pyplot as plt\n",
        "plt.figure(figsize=(11,5))\n",
        "\n",
        "# 1 row, 2 column, plot 1\n",
        "plt.subplot(1, 2, 1)\n",
        "plt.scatter(x=Y_train, y=Y_pred_train, c=\"#7CAE00\", alpha=0.3)\n",
        "\n",
        "z = np.polyfit(Y_train, Y_pred_train, 1)\n",
        "p = np.poly1d(z)\n",
        "plt.plot(Y_test,p(Y_test),\"#F8766D\")\n",
        "\n",
        "plt.ylabel('Predicted LogS')\n",
        "plt.xlabel('Experimental LogS')\n",
        "\n",
        "# 1 row, 2 column, plot 2\n",
        "plt.subplot(1, 2, 2)\n",
        "plt.scatter(x=Y_test, y=Y_pred_test, c=\"#619CFF\", alpha=0.3)\n",
        "\n",
        "z = np.polyfit(Y_test, Y_pred_test, 1)\n",
        "p = np.poly1d(z)\n",
        "plt.plot(Y_test,p(Y_test),\"#F8766D\")\n",
        "\n",
        "plt.xlabel('Experimental LogS')\n",
        "\n",
        "#Guardando la gráfica\n",
        "#plt.savefig('plot_horizontal_logS.png')\n",
        "#plt.savefig('plot_horizontal_logS.pdf')\n",
        "plt.show()"
      ],
      "metadata": {
        "id": "PHT2jWvLMPTn"
      },
      "execution_count": null,
      "outputs": []
    },
    {
      "cell_type": "markdown",
      "source": [
        "Delaney:\n",
        "__LogS = 0.16 - 0.63 cLogP - 0.0062 MW + 0.066 RB - 0.74 AP__\n",
        "\n",
        "Pat Walters:\n",
        "__LogS = 0.26 - 0.74 LogP - 0.0066 MW + 0.0034 RB - 0.42 AP__\n",
        "\n",
        "TutoBas Train set:\n",
        "__LogS =  0.26 - 0.73 LogP - 0.0069 MW 0.0163 RB - 0.36 AP__\n",
        "\n",
        "Full dataset\n",
        "__LogS =  0.26 - 0.74 LogP - 0.0066 MW + 0.0032 RB - 0.42 AP__"
      ],
      "metadata": {
        "id": "ECuja8TsMQtF"
      }
    }
  ]
}